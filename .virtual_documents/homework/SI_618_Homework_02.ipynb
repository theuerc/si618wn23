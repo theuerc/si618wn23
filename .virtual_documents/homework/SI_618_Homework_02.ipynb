MY_UNIQNAME = '?'  # replace this with your uniqname


# put your code here


# put your code here


# put your code here


# put your code here


# put your code here



